{
 "cells": [
  {
   "cell_type": "code",
   "execution_count": 55,
   "metadata": {},
   "outputs": [
    {
     "data": {
      "text/plain": [
       "adjust_params (generic function with 1 method)"
      ]
     },
     "metadata": {},
     "output_type": "display_data"
    }
   ],
   "source": [
    "include(\"autodiff/graph.jl\")\n",
    "include(\"autodiff/operations.jl\")\n",
    "include(\"layers/layers.jl\")"
   ]
  },
  {
   "cell_type": "code",
   "execution_count": 56,
   "metadata": {},
   "outputs": [
    {
     "data": {
      "text/plain": [
       "loader (generic function with 1 method)"
      ]
     },
     "metadata": {},
     "output_type": "display_data"
    }
   ],
   "source": [
    "using MLDatasets, Flux\n",
    "\n",
    "train_data = MLDatasets.MNIST(split=:train)\n",
    "test_data = MLDatasets.MNIST(split=:test)\n",
    "\n",
    "function loader(data::MNIST; batchsize::Int=1)\n",
    "    x1dim = reshape(data.features, 28 * 28, :)\n",
    "    yhot = Flux.onehotbatch(data.targets, 0:9)\n",
    "    Flux.DataLoader((x1dim, yhot); batchsize, shuffle=true)\n",
    "end"
   ]
  },
  {
   "cell_type": "code",
   "execution_count": 57,
   "metadata": {},
   "outputs": [
    {
     "data": {
      "text/plain": [
       "loss_and_accuracy (generic function with 1 method)"
      ]
     },
     "metadata": {},
     "output_type": "display_data"
    }
   ],
   "source": [
    "using Statistics: mean\n",
    "function loss_and_accuracy(model::Function, data::MNIST)\n",
    "    batchsize = length(data)\n",
    "    (x_test, y_test) = only(loader(data; batchsize))\n",
    "    xs = [Variable(x_test[(i*196+1):((i+1)*196), :]) for i in 0:3]\n",
    "    y = Variable(y_test)\n",
    "\n",
    "    ŷ = model(xs)\n",
    "    E = cross_entropy(ŷ, y)\n",
    "    graph = topological_sort(E)\n",
    "\n",
    "    reset_hidden_state()\n",
    "    loss = forward!(graph)\n",
    "    acc = round(100 * mean(Flux.onecold(ŷ.output) .== Flux.onecold(y_test)); digits=2)\n",
    "\n",
    "    return (loss, acc)\n",
    "end"
   ]
  },
  {
   "cell_type": "code",
   "execution_count": 58,
   "metadata": {},
   "outputs": [
    {
     "data": {
      "text/plain": [
       "#279 (generic function with 1 method)"
      ]
     },
     "metadata": {},
     "output_type": "display_data"
    }
   ],
   "source": [
    "settings = (;\n",
    "    eta=15e-3,\n",
    "    epochs=5,\n",
    "    batchsize=100,\n",
    ")\n",
    "\n",
    "rnn_in_size = 28 * 28 ÷ 4\n",
    "rnn_out_size = 64\n",
    "seq_len = 4\n",
    "dense_in_size = rnn_out_size\n",
    "dense_out_size = 10\n",
    "\n",
    "net = chain(\n",
    "    rnn(rnn_in_size, rnn_out_size),\n",
    "    dense(dense_in_size, dense_out_size, bias=true)\n",
    ")"
   ]
  },
  {
   "cell_type": "code",
   "execution_count": 59,
   "metadata": {},
   "outputs": [
    {
     "name": "stdout",
     "output_type": "stream",
     "text": [
      "1. var W (dense)\n",
      " ┣━ ^ 10×64 Matrix{Float32}\n",
      " ┗━ ∇ 10×64 Matrix{Float32}\n",
      "2. var V (rnn)\n",
      " ┣━ ^ 64×64 Matrix{Float32}\n",
      " ┗━ ∇ 64×64 Matrix{Float32}\n",
      "3. var W (rnn)\n",
      " ┣━ ^ 64×64 Matrix{Float32}\n",
      " ┗━ ∇ 64×64 Matrix{Float32}\n",
      "4. var h0\n",
      " ┣━ ^ 64×100 Matrix{Float64}\n",
      " ┗━ ∇ 64×100 Matrix{Float64}\n",
      "5. op.?(typeof(mul!))\n",
      "6. var U (rnn)\n",
      " ┣━ ^ 64×196 Matrix{Float32}\n",
      " ┗━ ∇ 64×196 Matrix{Float32}\n",
      "7. var x1\n",
      " ┣━ ^ 196×100 Matrix{Float64}\n",
      " ┗━ ∇ 196×100 Matrix{Float64}\n",
      "8. op.?(typeof(mul!))\n",
      "9. op.?(typeof(+))\n",
      "10. var b (rnn)\n",
      " ┣━ ^ 64×1 Matrix{Float32}\n",
      " ┗━ ∇ 64×100 Matrix{Float32}\n",
      "11. op.?(typeof(+))\n",
      "12. op.h1(typeof(tanh))\n",
      "13. op.?(typeof(mul!))\n",
      "14. var x2\n",
      " ┣━ ^ 196×100 Matrix{Float64}\n",
      " ┗━ ∇ 196×100 Matrix{Float64}\n",
      "15. op.?(typeof(mul!))\n",
      "16. op.?(typeof(+))\n",
      "17. op.?(typeof(+))\n",
      "18. op.h2(typeof(tanh))\n",
      "19. op.?(typeof(mul!))\n",
      "20. var x3\n",
      " ┣━ ^ 196×100 Matrix{Float64}\n",
      " ┗━ ∇ 196×100 Matrix{Float64}\n",
      "21. op.?(typeof(mul!))\n",
      "22. op.?(typeof(+))\n",
      "23. op.?(typeof(+))\n",
      "24. op.h3(typeof(tanh))\n",
      "25. op.?(typeof(mul!))\n",
      "26. var x4\n",
      " ┣━ ^ 196×100 Matrix{Float64}\n",
      " ┗━ ∇ 196×100 Matrix{Float64}\n",
      "27. op.?(typeof(mul!))\n",
      "28. op.?(typeof(+))\n",
      "29. op.?(typeof(+))\n",
      "30. op.h4(typeof(tanh))\n",
      "31. op.?(typeof(mul!))\n",
      "32. var c (rnn)\n",
      " ┣━ ^ 64×1 Matrix{Float32}\n",
      " ┗━ ∇ 64×100 Matrix{Float32}\n",
      "33. op.?(typeof(+))\n",
      "34. op.?(typeof(mul!))\n",
      "35. var b (dense)\n",
      " ┣━ ^ 10×1 Matrix{Float32}\n",
      " ┗━ ∇ 10×100 Matrix{Float32}\n",
      "36. op.ŷ(typeof(+))\n",
      "37. var ?\n",
      " ┣━ ^ 10×100 Matrix{Float64}\n",
      " ┗━ ∇ Nothing\n",
      "38. op loss(typeof(cross_entropy))\n",
      "loss_and_accuracy(net, test_data) = (2.494202277377937, 6.25)\n"
     ]
    },
    {
     "data": {
      "text/plain": [
       "(2.494202277377937, 6.25)"
      ]
     },
     "metadata": {},
     "output_type": "display_data"
    }
   ],
   "source": [
    "xs = [Variable(zeros(rnn_in_size, settings.batchsize); name=\"x\" * string(i)) for i in 1:seq_len]\n",
    "ŷ = net(xs)\n",
    "ŷ.name = \"ŷ\"\n",
    "\n",
    "y = Variable(zeros(dense_out_size, settings.batchsize))\n",
    "E = cross_entropy(ŷ, y)\n",
    "E.name = \"loss\"\n",
    "\n",
    "graph = topological_sort(E)\n",
    "loss = forward!(graph)\n",
    "backward!(graph)\n",
    "\n",
    "for (i, n) in enumerate(graph)\n",
    "    print(i, \". \")\n",
    "    println(n)\n",
    "end\n",
    "\n",
    "@show loss_and_accuracy(net, test_data)"
   ]
  },
  {
   "cell_type": "code",
   "execution_count": 60,
   "metadata": {},
   "outputs": [
    {
     "name": "stdout",
     "output_type": "stream",
     "text": [
      "  3.826107 seconds (485.27 k allocations: 3.307 GiB, 10.38% gc time, 0.67% compilation time)\n"
     ]
    },
    {
     "name": "stderr",
     "output_type": "stream",
     "text": [
      "┌ Info: 1\n",
      "│   acc = 87.86\n",
      "│   test_acc = 88.11\n",
      "└ @ Main c:\\Projects\\RNNFromScratch\\src\\RNNFromScratch.ipynb:29\n"
     ]
    },
    {
     "name": "stdout",
     "output_type": "stream",
     "text": [
      "  4.228944 seconds (479.53 k allocations: 3.306 GiB, 16.72% gc time)\n"
     ]
    },
    {
     "name": "stderr",
     "output_type": "stream",
     "text": [
      "┌ Info: 2\n",
      "│   acc = 90.32\n",
      "│   test_acc = 90.5\n",
      "└ @ Main c:\\Projects\\RNNFromScratch\\src\\RNNFromScratch.ipynb:29\n"
     ]
    },
    {
     "name": "stdout",
     "output_type": "stream",
     "text": [
      "  4.198757 seconds (479.53 k allocations: 3.306 GiB, 16.97% gc time)\n"
     ]
    },
    {
     "name": "stderr",
     "output_type": "stream",
     "text": [
      "┌ Info: 3\n",
      "│   acc = 91.59\n",
      "│   test_acc = 91.73\n",
      "└ @ Main c:\\Projects\\RNNFromScratch\\src\\RNNFromScratch.ipynb:29\n"
     ]
    },
    {
     "name": "stdout",
     "output_type": "stream",
     "text": [
      "  4.345640 seconds (479.53 k allocations: 3.306 GiB, 16.64% gc time)\n"
     ]
    },
    {
     "name": "stderr",
     "output_type": "stream",
     "text": [
      "┌ Info: 4\n",
      "│   acc = 92.49\n",
      "│   test_acc = 92.34\n",
      "└ @ Main c:\\Projects\\RNNFromScratch\\src\\RNNFromScratch.ipynb:29\n"
     ]
    },
    {
     "name": "stdout",
     "output_type": "stream",
     "text": [
      "  4.216583 seconds (479.53 k allocations: 3.306 GiB, 16.64% gc time)\n"
     ]
    },
    {
     "name": "stderr",
     "output_type": "stream",
     "text": [
      "┌ Info: 5\n",
      "│   acc = 93.04\n",
      "│   test_acc = 93.2\n",
      "└ @ Main c:\\Projects\\RNNFromScratch\\src\\RNNFromScratch.ipynb:29\n"
     ]
    }
   ],
   "source": [
    "for epoch in 1:settings.epochs\n",
    "    local limit = 2^100\n",
    "    local i = 1\n",
    "    local loss = Inf\n",
    "    @time for (x_mnist, y_mnist) in loader(train_data, batchsize=settings.batchsize)\n",
    "        # x_mnist <- (28 * 28 = 784, batchsize = 100)\n",
    "        # y_mnist <- (10, batchsize = 100)\n",
    "\n",
    "        reset_hidden_state()\n",
    "\n",
    "        set_value!(xs[1], x_mnist[1:196, :])\n",
    "        set_value!(xs[2], x_mnist[197:392, :])\n",
    "        set_value!(xs[3], x_mnist[393:588, :])\n",
    "        set_value!(xs[4], x_mnist[589:end, :])\n",
    "        set_value!(y, y_mnist)\n",
    "\n",
    "        forward!(graph)\n",
    "        backward!(graph)\n",
    "        adjust_params(settings.eta)\n",
    "\n",
    "        if i == limit\n",
    "            break\n",
    "        end\n",
    "        i += 1\n",
    "    end\n",
    "\n",
    "    loss, acc = loss_and_accuracy(net, train_data)\n",
    "    test_loss, test_acc = loss_and_accuracy(net, test_data)\n",
    "    @info epoch acc test_acc\n",
    "end"
   ]
  },
  {
   "cell_type": "code",
   "execution_count": 61,
   "metadata": {},
   "outputs": [
    {
     "name": "stdout",
     "output_type": "stream",
     "text": [
      "ŷ = [6, 5, 5, 4, 4, 8, 3, 1, 2, 0]\n",
      "y = [6, 5, 5, 4, 4, 8, 3, 1, 2, 0]\n",
      "correct guesses: 10 / 10\n"
     ]
    },
    {
     "data": {
      "image/png": "[encoded data removed]",
      "text/html": [
       "<img src=\"data:image/png;base64,iVBORw0KGgoAAAANSUhEUgAAAjAAAAA4CAAAAADGVp33AAAABGdBTUEAALGPC/xhBQAAAAFzUkdCAK7OHOkAAAAgY0hSTQAAeiYAAICEAAD6AAAAgOgAAHUwAADqYAAAOpgAABdwnLpRPAAACR1JREFUeAHtwQmUVYVhANA7+FhFEgSDysARMZgAWshGaBQ/DaAJLhgWJUJFbQpB0RwNWCRkhoBgFYNiJFgVRSO4QzVqoyyfxa1pioKgKAJmEMWBsqgMjOP8nnf+mcPMMPP/e+PSk9N3byCRiCGQSMQQSCRiCCQSMQTyOM0M47wikQgFEokYAjmlzPG0tRJ/CwoMNUoLqzxuvXJfhEAiEUMgh45+5yPXq/TZnGSRbgZbJBFXE8t939H2yq+lB4X6mGSHGe6y3+ctkEjEEMjhCif4vt0aromhhhmgiVIvqk8xiqWkVClSJa2vXL5mvk3G+XIc70+6CjVSaY3HbLVQ/VY6TXUFMpa6ybOi6qeXjKcMslM+B63UR1Y7txgv5W3xNDJKkY7eUORhhwskEjEE6nWxX7rGaxpusHONEFplkvfVpwhFqpuCtLT8Zupvk3ia6+JVVb7rZcv0k99EE7WQEaqU0UMPn5pkugXqVimjugz+wd970GWi6SLUW29PyqfcKn0c0t6pSpSLrr0ZLkKlLoo0sUClmgKJRAyBevQzx31u0zAtnO1XuipQ4UXTpFWoT8ohaSsUi2OA+H7tEseqMkRGR/l1dKkWWG0zCmSEBvqG6yxQt9edLmuJA0LdnaCZwW61VhRLxXG9rTjPtx0n9JjrTRbVUS5zEV4138n+yXwr/VVNgUQihkCdjjDJOyarEE9b3/RzdPEtGbzpSs/JrUhWgfiGaCWua1xtn0OGiubbOuFKD9jrkAv9Qf2utUDWfzooNMAzOEoz0ZTYoKuoDrgbd/uqh/QX6iGqwP3OwW1utB0fucZgs32qukAiEUOgThfqo48ScQwzUG+dZX3sdouU2C63YikNdZJ5mqC76Fq4WOCQE7URx3CL7HVIqbeFAmdYqrZ9VjmkqQlGCj1lk2jaKBTfHhdaqofoOpvuHOVmud12oVWuMtNC76sukEjEEKjTeI96XnRHmOVyoU884zXz7bZLHGnxNXWkUB+DLBZNT92wTpVCLUWz2kYn622UGbLamu0srXzsWYE+AnVrpomeLtTWT4RWGmGfaFpopSF2m20evuNEm+XT2TM6Y73rVHnSra5xnjtUF0gkYgjU4WzHGi/U2EAT/I8ZnpdLyuUo87Qb/ZeGSFluirQ4Bsk4qFShqRaL5iyhDWp6Rn6lbjbLka7wmDdxskGGCR3pG0oNVpej/ULKD1T3un2i2mmbQg2xUehDZfK7WmdrbVSgutWudIqaAolEDIE63Oigd4RGu1W5Dy1zvqfl84klPhZPWrFiRUhJoa+0aJq7DkuVKRTdAKHnVGkutFcU82TM1s6rHlJgmMYotdlcz9usbq1N8lm0VeizOMmx3pNfqXOVqOkJ76ktkEjEEDjMUJ308ib6mWaJid6yxpOOUL8XPGyYVn5vp+k2e1JUaRQrRkqRlOXSpkjL7xLNZGzXWlZ7vCufo4XKhZo66ByhZaK5x9nO09gIBfZ5wWMe9YG4RrjBX33ROgkt8JYo9itR2zGaqi2QSMQQOMwN3rBWaJTtRnkPc91opPvVp8xw/22Mlo4xS2iViV4QR1oaxYqk9JWWT3ehS+zHSdZpjd2mWyiXzU7EImmrHe+3BqDSB6LpoKusFc5SLr9tpumF6U7zlOnOwpGucZVodnlXoUbiu0joNh+Jopl2dqjpR9qpLZBIxBA4TCeThVIuMNJ7sjJ2y+0mN2mvl5/rqbXTLTLYanEVo8hyfaXl0sUwBQi0QjNdhY4zyUK5FGnnFI3111+B0UIbbJDfLcY55CXlojioSNZK/IvNxuI4UbXRXkalL1o7o/1GfoFEIoZALc2V2SN0vif8u6yBOCC/dz3ucZ38wLW6WmyiO8VV7AwpRdJyOd5XZWRkVcrIulluL7nIUIOcigJZBfI51R8dK2OHufaYhW9polxc60w11pdhqNNFN9dAP3OX7arrjHvUFEgkYgjUMsQejwoNMVCZ0Il6YomottjiRa9p7Rx3im+KlJTcXnCXQTJ4TR8BZlrsbaXyWW+9abr4nt666Y1H5HaKPzkGs023U3uz0F9T5eIqMFnoU1+04VoKPeJ3XtLG+15Uv3Wec6nTPOyQM43Hu2oKJBIxBA5zvPF+aaR/84qsUVp5RDxv+1eTfVdDpIWKFatfuTHGyFqnq1I32COqChtscK+79fah++W2RBvMdp0D+MBCwzXMPxorNElUJTboKp6vuNyZsgrdYL8mDhrsWfW7w6UmeME2VVpr6jE71RRIJGII1PKoW4wzz25VLjHRRiPF09LZ2Ci3lOUK1JYSz0Om2OaguFo7H2/YKre2Mt4zywGh1n4ouuFSRstqa6zQPFtFtccOXdFFVK08rq/qWiCwyExF6rPVZj3NM0BWRxMxXYWaAolEDIFayvzYIx7wgJSOthjs7ywwXrlcGvtEdS0s1hNPya3IFIdbLrprddBdIwXi6+MrWCC/HYYokdXY10Q10hwVRgu1s9B3hKapFNeZbhbN0fqqS3NHqd9Ow73s6zooEbpXd5uUqC2QSMQQOMzLupmqu69r6wIzTbBCuVyGG2e9/e6S9RNXa6XSYrPklrJCbcuF0opF8YRnFKp0szJxtUSZB+W31D6FtqGnaUKPK5PfZVrY7wz0MNrJqPQb28T3TadaK64Ftgl108F/eF4ur3jCuf5ooG1O0BkX2KW2QCIRQ6AOH/qFOHrppReucMjH7jFRheiKUaTKFNG87nYzlHpRfAPxZx/I76d+qsQKnKED9pmuQjQtLFOlwnpTxbNIXxzneGtF8Y6xfo9t+nlLpVAjjVTIrcLVuuluorf8s0ITrXO4QCIRQ+BzMNWtRmjvZ0JLNfaK3yqRX1qRImkp1U1RLLp7XWGfreL7oWiuNFUrHYwQqrTLQGtEsdD3NFVlrzl+Ja57TbDFk5aJJmOuuWqqVCm/Le50gzFCb5nvU4cLJBIxBD4Hu+wyFWPE1VexM6RkTUGxuErdqZuGOBqn6GmN3G73kn66ugh/8Ge3i+oOn7hTaI0HPeId8e13gi/LTDv8Wieb9LNDXQKJRAyB/2PFPrtpGuYqt3nY6/L7i7/gYvHNM8/fjoz73CeXQCIRQ+D/sTnmSMQTSCRiCCQSMQQSiRj+F6P+lKi/vLG+AAAAAElFTkSuQmCC\">"
      ],
      "text/plain": [
       "28×280 reinterpret(reshape, Gray{Float32}, ::Matrix{Float32}) with eltype Gray{Float32}:\n",
       " Gray{Float32}(0.0)  Gray{Float32}(0.0)  …  Gray{Float32}(0.0)\n",
       " Gray{Float32}(0.0)  Gray{Float32}(0.0)     Gray{Float32}(0.0)\n",
       " Gray{Float32}(0.0)  Gray{Float32}(0.0)     Gray{Float32}(0.0)\n",
       " Gray{Float32}(0.0)  Gray{Float32}(0.0)     Gray{Float32}(0.0)\n",
       " Gray{Float32}(0.0)  Gray{Float32}(0.0)     Gray{Float32}(0.0)\n",
       " Gray{Float32}(0.0)  Gray{Float32}(0.0)  …  Gray{Float32}(0.0)\n",
       " Gray{Float32}(0.0)  Gray{Float32}(0.0)     Gray{Float32}(0.0)\n",
       " Gray{Float32}(0.0)  Gray{Float32}(0.0)     Gray{Float32}(0.0)\n",
       " Gray{Float32}(0.0)  Gray{Float32}(0.0)     Gray{Float32}(0.0)\n",
       " Gray{Float32}(0.0)  Gray{Float32}(0.0)     Gray{Float32}(0.0)\n",
       " ⋮                                       ⋱  \n",
       " Gray{Float32}(0.0)  Gray{Float32}(0.0)     Gray{Float32}(0.0)\n",
       " Gray{Float32}(0.0)  Gray{Float32}(0.0)  …  Gray{Float32}(0.0)\n",
       " Gray{Float32}(0.0)  Gray{Float32}(0.0)     Gray{Float32}(0.0)\n",
       " Gray{Float32}(0.0)  Gray{Float32}(0.0)     Gray{Float32}(0.0)\n",
       " Gray{Float32}(0.0)  Gray{Float32}(0.0)     Gray{Float32}(0.0)\n",
       " Gray{Float32}(0.0)  Gray{Float32}(0.0)     Gray{Float32}(0.0)\n",
       " Gray{Float32}(0.0)  Gray{Float32}(0.0)  …  Gray{Float32}(0.0)\n",
       " Gray{Float32}(0.0)  Gray{Float32}(0.0)     Gray{Float32}(0.0)\n",
       " Gray{Float32}(0.0)  Gray{Float32}(0.0)     Gray{Float32}(0.0)"
      ]
     },
     "metadata": {},
     "output_type": "display_data"
    }
   ],
   "source": [
    "using Images\n",
    "batchsize = 10\n",
    "(x_disp, y_disp) = first(loader(test_data; batchsize))\n",
    "xs = [Variable(x_disp[(i*196+1):((i+1)*196), :]) for i in 0:3]\n",
    "y = Variable(y_disp)\n",
    "\n",
    "ŷ = net(xs)\n",
    "graph = topological_sort(ŷ)\n",
    "\n",
    "reset_hidden_state()\n",
    "\n",
    "forward!(graph)\n",
    "println(\"ŷ = \", Flux.onecold(ŷ.output) .- 1)\n",
    "println(\"y = \", Flux.onecold(y_disp) .- 1)\n",
    "println(\"correct guesses: \", sum(Flux.onecold(ŷ.output) .== Flux.onecold(y_disp)), \" / \", batchsize)\n",
    "\n",
    "vector_of_matrices = [reshape(x_disp[:, i], 28, 28) for i in 1:size(x_disp, 2)]\n",
    "fixed_matrices = [reverse(transpose(reverse((matrix), dims=1)), dims=2) for matrix in vector_of_matrices]\n",
    "horizontal_image = hcat(fixed_matrices...)\n",
    "Images.colorview(Gray, horizontal_image)"
   ]
  }
 ],
 "metadata": {
  "kernelspec": {
   "display_name": "Julia 1.10.3",
   "language": "julia",
   "name": "julia-1.10"
  },
  "language_info": {
   "file_extension": ".jl",
   "mimetype": "application/julia",
   "name": "julia",
   "version": "1.10.3"
  }
 },
 "nbformat": 4,
 "nbformat_minor": 2
}
