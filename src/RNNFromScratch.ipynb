{
    "cells": [
        {
            "cell_type": "markdown",
            "metadata": {},
            "source": [
                "# RNN From Scratch"
            ]
        },
        {
            "cell_type": "code",
            "execution_count": 43,
            "metadata": {},
            "outputs": [
                {
                    "data": {
                        "text/plain": [
                            "TaskLocalRNG()"
                        ]
                    },
                    "metadata": {},
                    "output_type": "display_data"
                }
            ],
            "source": [
                "include(\"autodiff/graph.jl\")\n",
                "include(\"autodiff/operations.jl\")\n",
                "include(\"layers/layers.jl\")\n",
                "\n",
                "Random.seed!(1)"
            ]
        },
        {
            "cell_type": "code",
            "execution_count": 44,
            "metadata": {},
            "outputs": [
                {
                    "data": {
                        "text/plain": [
                            "loader (generic function with 1 method)"
                        ]
                    },
                    "metadata": {},
                    "output_type": "display_data"
                }
            ],
            "source": [
                "using MLDatasets, Flux\n",
                "\n",
                "train_data = MLDatasets.MNIST(split=:train)\n",
                "test_data = MLDatasets.MNIST(split=:test)\n",
                "\n",
                "function loader(data::MNIST; batchsize::Int=1)\n",
                "    x1dim = reshape(data.features, 28 * 28, :)\n",
                "    yhot = Flux.onehotbatch(data.targets, 0:9)\n",
                "    Flux.DataLoader((x1dim, yhot); batchsize, shuffle=true)\n",
                "end"
            ]
        },
        {
            "cell_type": "code",
            "execution_count": 45,
            "metadata": {},
            "outputs": [
                {
                    "data": {
                        "text/plain": [
                            "loss_and_accuracy (generic function with 1 method)"
                        ]
                    },
                    "metadata": {},
                    "output_type": "display_data"
                }
            ],
            "source": [
                "using Statistics: mean\n",
                "function loss_and_accuracy(model::Function, data::MNIST)\n",
                "    batchsize = length(data)\n",
                "    (x_test, y_test) = only(loader(data; batchsize))\n",
                "    xs = [Variable(x_test[(i*196+1):((i+1)*196), :]) for i in 0:3]\n",
                "    y = Variable(y_test)\n",
                "\n",
                "    ŷ = model(xs)\n",
                "    E = cross_entropy(ŷ, y)\n",
                "    graph = topological_sort(E)\n",
                "\n",
                "    reset_hidden_state()\n",
                "    loss = forward!(graph)\n",
                "    acc = round(100 * mean(Flux.onecold(ŷ.output) .== Flux.onecold(y_test)); digits=2)\n",
                "\n",
                "    return (loss, acc)\n",
                "end"
            ]
        },
        {
            "cell_type": "markdown",
            "metadata": {},
            "source": [
                "## Global settings & net definition"
            ]
        },
        {
            "cell_type": "code",
            "execution_count": 46,
            "metadata": {},
            "outputs": [
                {
                    "data": {
                        "text/plain": [
                            "#324 (generic function with 1 method)"
                        ]
                    },
                    "metadata": {},
                    "output_type": "display_data"
                }
            ],
            "source": [
                "settings = (;\n",
                "    eta=15e-3,\n",
                "    epochs=5,\n",
                "    batchsize=100,\n",
                ")\n",
                "\n",
                "rnn_in_size = 28 * 28 ÷ 4\n",
                "rnn_out_size = 64\n",
                "seq_len = 4\n",
                "dense_in_size = rnn_out_size\n",
                "dense_out_size = 10\n",
                "\n",
                "net = chain(\n",
                "    rnn(rnn_in_size, rnn_out_size, tanh),\n",
                "    dense(dense_in_size, dense_out_size, bias=true)\n",
                ")"
            ]
        },
        {
            "cell_type": "code",
            "execution_count": 47,
            "metadata": {},
            "outputs": [
                {
                    "name": "stdout",
                    "output_type": "stream",
                    "text": [
                        "1. var W (dense)\n",
                        " ┣━ ^ 10×64 Matrix{Float32}\n",
                        " ┗━ ∇ 10×64 Matrix{Float32}\n",
                        "2. var V (rnn)\n",
                        " ┣━ ^ 64×64 Matrix{Float32}\n",
                        " ┗━ ∇ 64×64 Matrix{Float32}\n",
                        "3. var W (rnn)\n",
                        " ┣━ ^ 64×64 Matrix{Float32}\n",
                        " ┗━ ∇ 64×64 Matrix{Float32}\n",
                        "4. var h0\n",
                        " ┣━ ^ 64×100 Matrix{Float64}\n",
                        " ┗━ ∇ 64×100 Matrix{Float64}\n",
                        "5. op.?(typeof(mul!))\n",
                        "6. var U (rnn)\n",
                        " ┣━ ^ 64×196 Matrix{Float32}\n",
                        " ┗━ ∇ 64×196 Matrix{Float32}\n",
                        "7. var x1\n",
                        " ┣━ ^ 196×100 Matrix{Float64}\n",
                        " ┗━ ∇ 196×100 Matrix{Float64}\n",
                        "8. op.?(typeof(mul!))\n",
                        "9. op.?(typeof(+))\n",
                        "10. var b (rnn)\n",
                        " ┣━ ^ 64×1 Matrix{Float32}\n",
                        " ┗━ ∇ 64×100 Matrix{Float32}\n",
                        "11. op.?(typeof(+))\n",
                        "12. op.h1(typeof(tanh))\n",
                        "13. op.?(typeof(mul!))\n",
                        "14. var x2\n",
                        " ┣━ ^ 196×100 Matrix{Float64}\n",
                        " ┗━ ∇ 196×100 Matrix{Float64}\n",
                        "15. op.?(typeof(mul!))\n",
                        "16. op.?(typeof(+))\n",
                        "17. op.?(typeof(+))\n",
                        "18. op.h2(typeof(tanh))\n",
                        "19. op.?(typeof(mul!))\n",
                        "20. var x3\n",
                        " ┣━ ^ 196×100 Matrix{Float64}\n",
                        " ┗━ ∇ 196×100 Matrix{Float64}\n",
                        "21. op.?(typeof(mul!))\n",
                        "22. op.?(typeof(+))\n",
                        "23. op.?(typeof(+))\n",
                        "24. op.h3(typeof(tanh))\n",
                        "25. op.?(typeof(mul!))\n",
                        "26. var x4\n",
                        " ┣━ ^ 196×100 Matrix{Float64}\n",
                        " ┗━ ∇ 196×100 Matrix{Float64}\n",
                        "27. op.?(typeof(mul!))\n",
                        "28. op.?(typeof(+))\n",
                        "29. op.?(typeof(+))\n",
                        "30. op.h4(typeof(tanh))\n",
                        "31. op.?(typeof(mul!))\n",
                        "32. var c (rnn)\n",
                        " ┣━ ^ 64×1 Matrix{Float32}\n",
                        " ┗━ ∇ 64×100 Matrix{Float32}\n",
                        "33. op.?(typeof(+))\n",
                        "34. op.?(typeof(mul!))\n",
                        "35. var b (dense)\n",
                        " ┣━ ^ 10×1 Matrix{Float32}\n",
                        " ┗━ ∇ 10×100 Matrix{Float32}\n",
                        "36. op.ŷ(typeof(+))\n",
                        "37. var ?\n",
                        " ┣━ ^ 10×100 Matrix{Float64}\n",
                        " ┗━ ∇ Nothing\n",
                        "38. op loss(typeof(cross_entropy))\n",
                        "loss_and_accuracy(net, test_data) = (2.5819755432213984, 7.53)\n"
                    ]
                },
                {
                    "data": {
                        "text/plain": [
                            "(2.5819755432213984, 7.53)"
                        ]
                    },
                    "metadata": {},
                    "output_type": "display_data"
                }
            ],
            "source": [
                "xs = [Variable(zeros(rnn_in_size, settings.batchsize); name=\"x\" * string(i)) for i in 1:seq_len]\n",
                "ŷ = net(xs)\n",
                "ŷ.name = \"ŷ\"\n",
                "\n",
                "y = Variable(zeros(dense_out_size, settings.batchsize))\n",
                "E = cross_entropy(ŷ, y)\n",
                "E.name = \"loss\"\n",
                "\n",
                "graph = topological_sort(E)\n",
                "loss = forward!(graph)\n",
                "backward!(graph)\n",
                "\n",
                "for (i, n) in enumerate(graph)\n",
                "    print(i, \". \")\n",
                "    println(n)\n",
                "end\n",
                "\n",
                "@show loss_and_accuracy(net, test_data)"
            ]
        },
        {
            "cell_type": "markdown",
            "metadata": {},
            "source": [
                "## Training the network"
            ]
        },
        {
            "cell_type": "code",
            "execution_count": 48,
            "metadata": {},
            "outputs": [
                {
                    "name": "stdout",
                    "output_type": "stream",
                    "text": [
                        "  5.428362 seconds (485.27 k allocations: 3.307 GiB, 6.33% gc time, 0.45% compilation time)\n",
                        "  6.006102 seconds (479.53 k allocations: 3.306 GiB, 11.76% gc time)\n"
                    ]
                },
                {
                    "name": "stderr",
                    "output_type": "stream",
                    "text": [
                        "┌ Info: 1\n",
                        "│   acc = 87.64\n",
                        "│   test_acc = 88.02\n",
                        "└ @ Main c:\\Projects\\RNNFromScratch\\src\\RNNFromScratch.ipynb:22\n",
                        "┌ Info: 2\n",
                        "│   acc = 90.6\n",
                        "│   test_acc = 90.9\n",
                        "└ @ Main c:\\Projects\\RNNFromScratch\\src\\RNNFromScratch.ipynb:22\n"
                    ]
                },
                {
                    "name": "stdout",
                    "output_type": "stream",
                    "text": [
                        "  6.126011 seconds (479.53 k allocations: 3.306 GiB, 10.88% gc time)\n"
                    ]
                },
                {
                    "name": "stderr",
                    "output_type": "stream",
                    "text": [
                        "┌ Info: 3\n",
                        "│   acc = 91.97\n",
                        "│   test_acc = 92.01\n",
                        "└ @ Main c:\\Projects\\RNNFromScratch\\src\\RNNFromScratch.ipynb:22\n"
                    ]
                },
                {
                    "name": "stdout",
                    "output_type": "stream",
                    "text": [
                        "  6.140430 seconds (479.53 k allocations: 3.306 GiB, 12.05% gc time)\n"
                    ]
                },
                {
                    "name": "stderr",
                    "output_type": "stream",
                    "text": [
                        "┌ Info: 4\n",
                        "│   acc = 92.83\n",
                        "│   test_acc = 92.92\n",
                        "└ @ Main c:\\Projects\\RNNFromScratch\\src\\RNNFromScratch.ipynb:22\n"
                    ]
                },
                {
                    "name": "stdout",
                    "output_type": "stream",
                    "text": [
                        "  6.147209 seconds (479.53 k allocations: 3.306 GiB, 10.90% gc time)\n"
                    ]
                },
                {
                    "name": "stderr",
                    "output_type": "stream",
                    "text": [
                        "┌ Info: 5\n",
                        "│   acc = 93.48\n",
                        "│   test_acc = 93.48\n",
                        "└ @ Main c:\\Projects\\RNNFromScratch\\src\\RNNFromScratch.ipynb:22\n"
                    ]
                }
            ],
            "source": [
                "for epoch in 1:settings.epochs\n",
                "    local loss = Inf\n",
                "    @time for (x_mnist, y_mnist) in loader(train_data, batchsize=settings.batchsize)\n",
                "        # x_mnist <- (28 * 28 = 784, batchsize = 100)\n",
                "        # y_mnist <- (10, batchsize = 100)\n",
                "\n",
                "        reset_hidden_state()\n",
                "\n",
                "        set_value!(xs[1], x_mnist[1:196, :])\n",
                "        set_value!(xs[2], x_mnist[197:392, :])\n",
                "        set_value!(xs[3], x_mnist[393:588, :])\n",
                "        set_value!(xs[4], x_mnist[589:end, :])\n",
                "        set_value!(y, y_mnist)\n",
                "\n",
                "        forward!(graph)\n",
                "        backward!(graph)\n",
                "        adjust_params(settings.eta)\n",
                "    end\n",
                "\n",
                "    loss, acc = loss_and_accuracy(net, train_data)\n",
                "    test_loss, test_acc = loss_and_accuracy(net, test_data)\n",
                "    @info epoch acc test_acc\n",
                "end"
            ]
        },
        {
            "cell_type": "markdown",
            "metadata": {},
            "source": [
                "## Using the trained network"
            ]
        },
        {
            "cell_type": "code",
            "execution_count": 49,
            "metadata": {},
            "outputs": [
                {
                    "name": "stdout",
                    "output_type": "stream",
                    "text": [
                        "ŷ = [0, 6, 3, 1, 7, 1, 2, 2, 6, 7]\n",
                        "y = [0, 6, 3, 1, 7, 1, 2, 3, 6, 7]\n",
                        "correct guesses: 9 / 10\n"
                    ]
                },
                {
                    "data": {
                        "image/png": "[encoded data removed]",
                        "text/html": [
                            "<img src=\"data:image/png;base64,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\">"
                        ],
                        "text/plain": [
                            "28×280 reinterpret(reshape, Gray{Float32}, ::Matrix{Float32}) with eltype Gray{Float32}:\n",
                            " Gray{Float32}(0.0)  Gray{Float32}(0.0)  …  Gray{Float32}(0.0)\n",
                            " Gray{Float32}(0.0)  Gray{Float32}(0.0)     Gray{Float32}(0.0)\n",
                            " Gray{Float32}(0.0)  Gray{Float32}(0.0)     Gray{Float32}(0.0)\n",
                            " Gray{Float32}(0.0)  Gray{Float32}(0.0)     Gray{Float32}(0.0)\n",
                            " Gray{Float32}(0.0)  Gray{Float32}(0.0)     Gray{Float32}(0.0)\n",
                            " Gray{Float32}(0.0)  Gray{Float32}(0.0)  …  Gray{Float32}(0.0)\n",
                            " Gray{Float32}(0.0)  Gray{Float32}(0.0)     Gray{Float32}(0.0)\n",
                            " Gray{Float32}(0.0)  Gray{Float32}(0.0)     Gray{Float32}(0.0)\n",
                            " Gray{Float32}(0.0)  Gray{Float32}(0.0)     Gray{Float32}(0.0)\n",
                            " Gray{Float32}(0.0)  Gray{Float32}(0.0)     Gray{Float32}(0.0)\n",
                            " ⋮                                       ⋱  \n",
                            " Gray{Float32}(0.0)  Gray{Float32}(0.0)     Gray{Float32}(0.0)\n",
                            " Gray{Float32}(0.0)  Gray{Float32}(0.0)  …  Gray{Float32}(0.0)\n",
                            " Gray{Float32}(0.0)  Gray{Float32}(0.0)     Gray{Float32}(0.0)\n",
                            " Gray{Float32}(0.0)  Gray{Float32}(0.0)     Gray{Float32}(0.0)\n",
                            " Gray{Float32}(0.0)  Gray{Float32}(0.0)     Gray{Float32}(0.0)\n",
                            " Gray{Float32}(0.0)  Gray{Float32}(0.0)     Gray{Float32}(0.0)\n",
                            " Gray{Float32}(0.0)  Gray{Float32}(0.0)  …  Gray{Float32}(0.0)\n",
                            " Gray{Float32}(0.0)  Gray{Float32}(0.0)     Gray{Float32}(0.0)\n",
                            " Gray{Float32}(0.0)  Gray{Float32}(0.0)     Gray{Float32}(0.0)"
                        ]
                    },
                    "metadata": {},
                    "output_type": "display_data"
                }
            ],
            "source": [
                "using Images\n",
                "batchsize = 10\n",
                "(x_disp, y_disp) = first(loader(test_data; batchsize))\n",
                "xs = [Variable(x_disp[(i*196+1):((i+1)*196), :]) for i in 0:3]\n",
                "y = Variable(y_disp)\n",
                "\n",
                "ŷ = net(xs)\n",
                "graph = topological_sort(ŷ)\n",
                "\n",
                "reset_hidden_state()\n",
                "\n",
                "forward!(graph)\n",
                "println(\"ŷ = \", Flux.onecold(ŷ.output) .- 1)\n",
                "println(\"y = \", Flux.onecold(y_disp) .- 1)\n",
                "println(\"correct guesses: \", sum(Flux.onecold(ŷ.output) .== Flux.onecold(y_disp)), \" / \", batchsize)\n",
                "\n",
                "vector_of_matrices = [reshape(x_disp[:, i], 28, 28) for i in 1:size(x_disp, 2)]\n",
                "fixed_matrices = [reverse(transpose(reverse((matrix), dims=1)), dims=2) for matrix in vector_of_matrices]\n",
                "horizontal_image = hcat(fixed_matrices...)\n",
                "Images.colorview(Gray, horizontal_image)"
            ]
        }
    ],
    "metadata": {
        "kernelspec": {
            "display_name": "Julia 1.10.4",
            "language": "julia",
            "name": "julia-1.10"
        },
        "language_info": {
            "file_extension": ".jl",
            "mimetype": "application/julia",
            "name": "julia",
            "version": "1.10.4"
        }
    },
    "nbformat": 4,
    "nbformat_minor": 2
}
