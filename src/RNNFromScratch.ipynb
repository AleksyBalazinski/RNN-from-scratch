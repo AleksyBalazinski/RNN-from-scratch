{
    "cells": [
        {
            "cell_type": "markdown",
            "metadata": {},
            "source": [
                "# RNN From Scratch"
            ]
        },
        {
            "cell_type": "code",
            "execution_count": 8,
            "metadata": {},
            "outputs": [
                {
                    "ename": "LoadError",
                    "evalue": "LoadError: invalid redefinition of constant Main.MaybeValue\nin expression starting at c:\\Projects\\RNNFromScratch\\src\\autodiff\\graph.jl:3\nin expression starting at c:\\Projects\\RNNFromScratch\\src\\autodiff\\operations.jl:1\nin expression starting at c:\\Projects\\RNNFromScratch\\src\\layers\\layers.jl:1",
                    "output_type": "error",
                    "traceback": [
                        "LoadError: invalid redefinition of constant Main.MaybeValue\n",
                        "in expression starting at c:\\Projects\\RNNFromScratch\\src\\autodiff\\graph.jl:3\n",
                        "in expression starting at c:\\Projects\\RNNFromScratch\\src\\autodiff\\operations.jl:1\n",
                        "in expression starting at c:\\Projects\\RNNFromScratch\\src\\layers\\layers.jl:1\n",
                        "\n",
                        "Stacktrace:\n",
                        " [1] top-level scope\n",
                        "   @ c:\\Projects\\RNNFromScratch\\src\\autodiff\\graph.jl:3"
                    ]
                }
            ],
            "source": [
                "include(\"layers/layers.jl\")\n",
                "\n",
                "Random.seed!(1)"
            ]
        },
        {
            "cell_type": "code",
            "execution_count": 9,
            "metadata": {},
            "outputs": [
                {
                    "data": {
                        "text/plain": [
                            "loader (generic function with 1 method)"
                        ]
                    },
                    "metadata": {},
                    "output_type": "display_data"
                }
            ],
            "source": [
                "using MLDatasets, Flux\n",
                "\n",
                "train_data = MLDatasets.MNIST(split=:train)\n",
                "test_data = MLDatasets.MNIST(split=:test)\n",
                "\n",
                "function loader(data::MNIST; batchsize::Int=1)\n",
                "    x1dim = reshape(data.features, 28 * 28, :)\n",
                "    yhot = Flux.onehotbatch(data.targets, 0:9)\n",
                "    Flux.DataLoader((x1dim, yhot); batchsize, shuffle=true)\n",
                "end"
            ]
        },
        {
            "cell_type": "code",
            "execution_count": 10,
            "metadata": {},
            "outputs": [
                {
                    "data": {
                        "text/plain": [
                            "loss_and_accuracy (generic function with 1 method)"
                        ]
                    },
                    "metadata": {},
                    "output_type": "display_data"
                }
            ],
            "source": [
                "using Statistics: mean\n",
                "function loss_and_accuracy(model::Function, data::MNIST)\n",
                "    batchsize = length(data)\n",
                "    (x_test, y_test) = only(loader(data; batchsize))\n",
                "    xs = [Variable(x_test[(i*196+1):((i+1)*196), :]) for i in 0:3]\n",
                "    y = Variable(y_test)\n",
                "\n",
                "    ŷ = model(xs)\n",
                "    E = cross_entropy(ŷ, y)\n",
                "    graph = topological_sort(E)\n",
                "\n",
                "    reset_hidden_state()\n",
                "    loss = forward!(graph)\n",
                "    acc = round(100 * mean(Flux.onecold(ŷ.output) .== Flux.onecold(y_test)); digits=2)\n",
                "\n",
                "    return (loss, acc)\n",
                "end"
            ]
        },
        {
            "cell_type": "markdown",
            "metadata": {},
            "source": [
                "## Global settings & net definition"
            ]
        },
        {
            "cell_type": "code",
            "execution_count": 11,
            "metadata": {},
            "outputs": [
                {
                    "data": {
                        "text/plain": [
                            "#21 (generic function with 1 method)"
                        ]
                    },
                    "metadata": {},
                    "output_type": "display_data"
                }
            ],
            "source": [
                "settings = (;\n",
                "    eta=15e-3,\n",
                "    epochs=5,\n",
                "    batchsize=100,\n",
                ")\n",
                "\n",
                "rnn_in_size = 28 * 28 ÷ 4\n",
                "rnn_out_size = 64\n",
                "seq_len = 4\n",
                "dense_in_size = rnn_out_size\n",
                "dense_out_size = 10\n",
                "\n",
                "net = chain(\n",
                "    rnn(rnn_in_size, rnn_out_size, tanh),\n",
                "    dense(dense_in_size, dense_out_size, bias=true)\n",
                ")"
            ]
        },
        {
            "cell_type": "code",
            "execution_count": 12,
            "metadata": {},
            "outputs": [
                {
                    "name": "stdout",
                    "output_type": "stream",
                    "text": [
                        "1. var W (dense)\n",
                        " ┣━ ^ 10×64 Matrix{Float64}\n",
                        " ┗━ ∇ 10×64 Matrix{Float64}\n",
                        "2. var V (rnn)\n",
                        " ┣━ ^ 64×64 Matrix{Float64}\n",
                        " ┗━ ∇ 64×64 Matrix{Float64}\n",
                        "3. var W (rnn)\n",
                        " ┣━ ^ 64×64 Matrix{Float64}\n",
                        " ┗━ ∇ 64×64 Matrix{Float64}\n",
                        "4. var h0\n",
                        " ┣━ ^ 64×100 Matrix{Float64}\n",
                        " ┗━ ∇ 64×100 Matrix{Float64}\n",
                        "5. op.?(typeof(mul!))\n",
                        "6. var U (rnn)\n",
                        " ┣━ ^ 64×196 Matrix{Float64}\n",
                        " ┗━ ∇ 64×196 Matrix{Float64}\n",
                        "7. var x1\n",
                        " ┣━ ^ 196×100 Matrix{Float64}\n",
                        " ┗━ ∇ 196×100 Matrix{Float64}\n",
                        "8. op.?(typeof(mul!))\n",
                        "9. op.?(typeof(+))\n",
                        "10. var b (rnn)\n",
                        " ┣━ ^ 64×1 Matrix{Float64}\n",
                        " ┗━ ∇ 64×100 Matrix{Float64}\n",
                        "11. op.?(typeof(+))\n",
                        "12. op.h1(typeof(tanh))\n",
                        "13. op.?(typeof(mul!))\n",
                        "14. var x2\n",
                        " ┣━ ^ 196×100 Matrix{Float64}\n",
                        " ┗━ ∇ 196×100 Matrix{Float64}\n",
                        "15. op.?(typeof(mul!))\n",
                        "16. op.?(typeof(+))\n",
                        "17. op.?(typeof(+))\n",
                        "18. op.h2(typeof(tanh))\n",
                        "19. op.?(typeof(mul!))\n",
                        "20. var x3\n",
                        " ┣━ ^ 196×100 Matrix{Float64}\n",
                        " ┗━ ∇ 196×100 Matrix{Float64}\n",
                        "21. op.?(typeof(mul!))\n",
                        "22. op.?(typeof(+))\n",
                        "23. op.?(typeof(+))\n",
                        "24. op.h3(typeof(tanh))\n",
                        "25. op.?(typeof(mul!))\n",
                        "26. var x4\n",
                        " ┣━ ^ 196×100 Matrix{Float64}\n",
                        " ┗━ ∇ 196×100 Matrix{Float64}\n",
                        "27. op.?(typeof(mul!))\n",
                        "28. op.?(typeof(+))\n",
                        "29. op.?(typeof(+))\n",
                        "30. op.h4(typeof(tanh))\n",
                        "31. op.?(typeof(mul!))\n",
                        "32. var c (rnn)\n",
                        " ┣━ ^ 64×1 Matrix{Float64}\n",
                        " ┗━ ∇ 64×100 Matrix{Float64}\n",
                        "33. op.?(typeof(+))\n",
                        "34. op.?(typeof(mul!))\n",
                        "35. var b (dense)\n",
                        " ┣━ ^ 10×1 Matrix{Float64}\n",
                        " ┗━ ∇ 10×100 Matrix{Float64}\n",
                        "36. op.ŷ(typeof(+))\n",
                        "37. var ?\n",
                        " ┣━ ^ 10×100 Matrix{Float64}\n",
                        " ┗━ ∇ Nothing\n",
                        "38. op loss(typeof(cross_entropy))\n",
                        "loss_and_accuracy(net, test_data) = (2.5165169367882205, 10.83)\n"
                    ]
                },
                {
                    "data": {
                        "text/plain": [
                            "(2.5165169367882205, 10.83)"
                        ]
                    },
                    "metadata": {},
                    "output_type": "display_data"
                }
            ],
            "source": [
                "xs = [Variable(zeros(rnn_in_size, settings.batchsize); name=\"x\" * string(i)) for i in 1:seq_len]\n",
                "ŷ = net(xs)\n",
                "ŷ.name = \"ŷ\"\n",
                "\n",
                "y = Variable(zeros(dense_out_size, settings.batchsize))\n",
                "E = cross_entropy(ŷ, y)\n",
                "E.name = \"loss\"\n",
                "\n",
                "graph = topological_sort(E)\n",
                "loss = forward!(graph)\n",
                "backward!(graph)\n",
                "\n",
                "for (i, n) in enumerate(graph)\n",
                "    print(i, \". \")\n",
                "    println(n)\n",
                "end\n",
                "\n",
                "@show loss_and_accuracy(net, test_data)"
            ]
        },
        {
            "cell_type": "markdown",
            "metadata": {},
            "source": [
                "## Training the network"
            ]
        },
        {
            "cell_type": "code",
            "execution_count": 13,
            "metadata": {},
            "outputs": [
                {
                    "name": "stdout",
                    "output_type": "stream",
                    "text": [
                        "  3.663178 seconds (199.95 k allocations: 913.187 MiB, 11.88% gc time, 0.09% compilation time)\n"
                    ]
                },
                {
                    "name": "stderr",
                    "output_type": "stream",
                    "text": [
                        "┌ Info: 1\n",
                        "│   acc = 87.17\n",
                        "│   test_acc = 87.84\n",
                        "└ @ Main c:\\Projects\\RNNFromScratch\\src\\RNNFromScratch.ipynb:22\n"
                    ]
                },
                {
                    "name": "stdout",
                    "output_type": "stream",
                    "text": [
                        "  3.461563 seconds (199.93 k allocations: 913.186 MiB, 8.49% gc time)\n"
                    ]
                },
                {
                    "name": "stderr",
                    "output_type": "stream",
                    "text": [
                        "┌ Info: 2\n",
                        "│   acc = 90.22\n",
                        "│   test_acc = 90.7\n",
                        "└ @ Main c:\\Projects\\RNNFromScratch\\src\\RNNFromScratch.ipynb:22\n"
                    ]
                },
                {
                    "name": "stdout",
                    "output_type": "stream",
                    "text": [
                        "  3.647535 seconds (199.93 k allocations: 913.186 MiB, 7.98% gc time)\n"
                    ]
                },
                {
                    "name": "stderr",
                    "output_type": "stream",
                    "text": [
                        "┌ Info: 3\n",
                        "│   acc = 91.72\n",
                        "│   test_acc = 91.85\n",
                        "└ @ Main c:\\Projects\\RNNFromScratch\\src\\RNNFromScratch.ipynb:22\n"
                    ]
                },
                {
                    "name": "stdout",
                    "output_type": "stream",
                    "text": [
                        "  3.548803 seconds (199.93 k allocations: 913.186 MiB, 8.65% gc time)\n"
                    ]
                },
                {
                    "name": "stderr",
                    "output_type": "stream",
                    "text": [
                        "┌ Info: 4\n",
                        "│   acc = 92.68\n",
                        "│   test_acc = 92.86\n",
                        "└ @ Main c:\\Projects\\RNNFromScratch\\src\\RNNFromScratch.ipynb:22\n"
                    ]
                },
                {
                    "name": "stdout",
                    "output_type": "stream",
                    "text": [
                        "  3.729510 seconds (199.93 k allocations: 913.186 MiB, 7.94% gc time)\n"
                    ]
                },
                {
                    "name": "stderr",
                    "output_type": "stream",
                    "text": [
                        "┌ Info: 5\n",
                        "│   acc = 93.4\n",
                        "│   test_acc = 93.44\n",
                        "└ @ Main c:\\Projects\\RNNFromScratch\\src\\RNNFromScratch.ipynb:22\n"
                    ]
                }
            ],
            "source": [
                "for epoch in 1:settings.epochs\n",
                "    local loss = Inf\n",
                "    @time for (x_mnist, y_mnist) in loader(train_data, batchsize=settings.batchsize)\n",
                "        # x_mnist <- (28 * 28 = 784, batchsize = 100)\n",
                "        # y_mnist <- (10, batchsize = 100)\n",
                "\n",
                "        reset_hidden_state()\n",
                "\n",
                "        set_value!(xs[1], x_mnist[1:196, :])\n",
                "        set_value!(xs[2], x_mnist[197:392, :])\n",
                "        set_value!(xs[3], x_mnist[393:588, :])\n",
                "        set_value!(xs[4], x_mnist[589:end, :])\n",
                "        set_value!(y, y_mnist)\n",
                "\n",
                "        forward!(graph)\n",
                "        backward!(graph)\n",
                "        adjust_params(settings.eta)\n",
                "    end\n",
                "\n",
                "    loss, acc = loss_and_accuracy(net, train_data)\n",
                "    test_loss, test_acc = loss_and_accuracy(net, test_data)\n",
                "    @info epoch acc test_acc\n",
                "end"
            ]
        },
        {
            "cell_type": "markdown",
            "metadata": {},
            "source": [
                "## Using the trained network"
            ]
        },
        {
            "cell_type": "code",
            "execution_count": 14,
            "metadata": {},
            "outputs": [
                {
                    "name": "stdout",
                    "output_type": "stream",
                    "text": [
                        "ŷ = [2, 9, 8, 7, 2, 2, 8, 5, 5, 5]\n",
                        "y = [2, 9, 8, 7, 2, 2, 8, 5, 5, 5]\n",
                        "correct guesses: 10 / 10\n"
                    ]
                },
                {
                    "data": {
                        "image/png": "[encoded data removed]",
                        "text/html": [
                            "<img src=\"data:image/png;base64,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\">"
                        ],
                        "text/plain": [
                            "28×280 reinterpret(reshape, Gray{Float32}, ::Matrix{Float32}) with eltype Gray{Float32}:\n",
                            " Gray{Float32}(0.0)  Gray{Float32}(0.0)  …  Gray{Float32}(0.0)\n",
                            " Gray{Float32}(0.0)  Gray{Float32}(0.0)     Gray{Float32}(0.0)\n",
                            " Gray{Float32}(0.0)  Gray{Float32}(0.0)     Gray{Float32}(0.0)\n",
                            " Gray{Float32}(0.0)  Gray{Float32}(0.0)     Gray{Float32}(0.0)\n",
                            " Gray{Float32}(0.0)  Gray{Float32}(0.0)     Gray{Float32}(0.0)\n",
                            " Gray{Float32}(0.0)  Gray{Float32}(0.0)  …  Gray{Float32}(0.0)\n",
                            " Gray{Float32}(0.0)  Gray{Float32}(0.0)     Gray{Float32}(0.0)\n",
                            " Gray{Float32}(0.0)  Gray{Float32}(0.0)     Gray{Float32}(0.0)\n",
                            " Gray{Float32}(0.0)  Gray{Float32}(0.0)     Gray{Float32}(0.0)\n",
                            " Gray{Float32}(0.0)  Gray{Float32}(0.0)     Gray{Float32}(0.0)\n",
                            " ⋮                                       ⋱  \n",
                            " Gray{Float32}(0.0)  Gray{Float32}(0.0)     Gray{Float32}(0.0)\n",
                            " Gray{Float32}(0.0)  Gray{Float32}(0.0)  …  Gray{Float32}(0.0)\n",
                            " Gray{Float32}(0.0)  Gray{Float32}(0.0)     Gray{Float32}(0.0)\n",
                            " Gray{Float32}(0.0)  Gray{Float32}(0.0)     Gray{Float32}(0.0)\n",
                            " Gray{Float32}(0.0)  Gray{Float32}(0.0)     Gray{Float32}(0.0)\n",
                            " Gray{Float32}(0.0)  Gray{Float32}(0.0)     Gray{Float32}(0.0)\n",
                            " Gray{Float32}(0.0)  Gray{Float32}(0.0)  …  Gray{Float32}(0.0)\n",
                            " Gray{Float32}(0.0)  Gray{Float32}(0.0)     Gray{Float32}(0.0)\n",
                            " Gray{Float32}(0.0)  Gray{Float32}(0.0)     Gray{Float32}(0.0)"
                        ]
                    },
                    "metadata": {},
                    "output_type": "display_data"
                }
            ],
            "source": [
                "using Images\n",
                "batchsize = 10\n",
                "(x_disp, y_disp) = first(loader(test_data; batchsize))\n",
                "xs = [Variable(x_disp[(i*196+1):((i+1)*196), :]) for i in 0:3]\n",
                "y = Variable(y_disp)\n",
                "\n",
                "ŷ = net(xs)\n",
                "graph = topological_sort(ŷ)\n",
                "\n",
                "reset_hidden_state()\n",
                "\n",
                "forward!(graph)\n",
                "println(\"ŷ = \", Flux.onecold(ŷ.output) .- 1)\n",
                "println(\"y = \", Flux.onecold(y_disp) .- 1)\n",
                "println(\"correct guesses: \", sum(Flux.onecold(ŷ.output) .== Flux.onecold(y_disp)), \" / \", batchsize)\n",
                "\n",
                "vector_of_matrices = [reshape(x_disp[:, i], 28, 28) for i in 1:size(x_disp, 2)]\n",
                "fixed_matrices = [reverse(transpose(reverse((matrix), dims=1)), dims=2) for matrix in vector_of_matrices]\n",
                "horizontal_image = hcat(fixed_matrices...)\n",
                "Images.colorview(Gray, horizontal_image)"
            ]
        }
    ],
    "metadata": {
        "kernelspec": {
            "display_name": "Julia 1.10.4",
            "language": "julia",
            "name": "julia-1.10"
        },
        "language_info": {
            "file_extension": ".jl",
            "mimetype": "application/julia",
            "name": "julia",
            "version": "1.10.4"
        }
    },
    "nbformat": 4,
    "nbformat_minor": 2
}
